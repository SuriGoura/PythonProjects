{
 "cells": [
  {
   "cell_type": "markdown",
   "id": "bb00ca6e",
   "metadata": {},
   "source": [
    "Generate Dataset"
   ]
  },
  {
   "cell_type": "code",
   "execution_count": 13,
   "id": "77c1e2e8",
   "metadata": {},
   "outputs": [],
   "source": [
    "import pandas as pd\n",
    "import numpy as np\n",
    "from faker import Faker\n",
    "import datetime\n"
   ]
  },
  {
   "cell_type": "code",
   "execution_count": null,
   "id": "de929750",
   "metadata": {},
   "outputs": [],
   "source": [
    "\n",
    "fake = Faker()\n",
    "num_rows = 1_000_000\n",
    "\n",
    "names = [fake.name() for _ in range(num_rows)]\n",
    "ages = np.random.randint(18, 70, size=num_rows)\n",
    "websites = np.random.choice(['google.com', 'facebook.com', 'twitter.com', 'github.com', 'linkedin.com'], size=num_rows)\n",
    "login_times = [fake.date_time_this_year() for _ in range(num_rows)]\n",
    "logout_times = [lt + pd.Timedelta(minutes=np.random.randint(1, 180)) for lt in login_times]\n",
    "\n",
    "df = pd.DataFrame({\n",
    "    'name': names,\n",
    "    'age': ages,\n",
    "    'website_used': websites,\n",
    "    'login_time': login_times,\n",
    "    'logout_time': logout_times\n",
    "})\n",
    "\n",
    "df.to_csv('site_data.csv', index=False)\n",
    "print(df.head())"
   ]
  },
  {
   "cell_type": "code",
   "execution_count": null,
   "id": "619d6ae6",
   "metadata": {},
   "outputs": [],
   "source": [
    "print(df.size)"
   ]
  },
  {
   "cell_type": "code",
   "execution_count": 16,
   "id": "3619a1eb",
   "metadata": {},
   "outputs": [
    {
     "data": {
      "text/html": [
       "<div>\n",
       "<style scoped>\n",
       "    .dataframe tbody tr th:only-of-type {\n",
       "        vertical-align: middle;\n",
       "    }\n",
       "\n",
       "    .dataframe tbody tr th {\n",
       "        vertical-align: top;\n",
       "    }\n",
       "\n",
       "    .dataframe thead th {\n",
       "        text-align: right;\n",
       "    }\n",
       "</style>\n",
       "<table border=\"1\" class=\"dataframe\">\n",
       "  <thead>\n",
       "    <tr style=\"text-align: right;\">\n",
       "      <th></th>\n",
       "      <th>name</th>\n",
       "      <th>age</th>\n",
       "      <th>website_used</th>\n",
       "      <th>login_time</th>\n",
       "      <th>logout_time</th>\n",
       "    </tr>\n",
       "  </thead>\n",
       "  <tbody>\n",
       "    <tr>\n",
       "      <th>0</th>\n",
       "      <td>Jason Boyer</td>\n",
       "      <td>54</td>\n",
       "      <td>twitter.com</td>\n",
       "      <td>2025-03-05 07:04:34.918761</td>\n",
       "      <td>2025-03-05 08:35:34.918761</td>\n",
       "    </tr>\n",
       "    <tr>\n",
       "      <th>1</th>\n",
       "      <td>Mary Huerta</td>\n",
       "      <td>21</td>\n",
       "      <td>facebook.com</td>\n",
       "      <td>2025-04-17 07:26:47.460576</td>\n",
       "      <td>2025-04-17 08:06:47.460576</td>\n",
       "    </tr>\n",
       "    <tr>\n",
       "      <th>2</th>\n",
       "      <td>Robin Lee</td>\n",
       "      <td>52</td>\n",
       "      <td>linkedin.com</td>\n",
       "      <td>2025-04-20 22:07:58.367471</td>\n",
       "      <td>2025-04-21 00:25:58.367471</td>\n",
       "    </tr>\n",
       "    <tr>\n",
       "      <th>3</th>\n",
       "      <td>Kevin Rodriguez MD</td>\n",
       "      <td>57</td>\n",
       "      <td>linkedin.com</td>\n",
       "      <td>2025-05-23 03:06:24.123255</td>\n",
       "      <td>2025-05-23 04:38:24.123255</td>\n",
       "    </tr>\n",
       "    <tr>\n",
       "      <th>4</th>\n",
       "      <td>Debra Walker</td>\n",
       "      <td>36</td>\n",
       "      <td>github.com</td>\n",
       "      <td>2025-03-14 07:09:16.376341</td>\n",
       "      <td>2025-03-14 09:31:16.376341</td>\n",
       "    </tr>\n",
       "    <tr>\n",
       "      <th>...</th>\n",
       "      <td>...</td>\n",
       "      <td>...</td>\n",
       "      <td>...</td>\n",
       "      <td>...</td>\n",
       "      <td>...</td>\n",
       "    </tr>\n",
       "    <tr>\n",
       "      <th>999995</th>\n",
       "      <td>Juan Thompson</td>\n",
       "      <td>60</td>\n",
       "      <td>facebook.com</td>\n",
       "      <td>2025-01-15 05:14:55.801544</td>\n",
       "      <td>2025-01-15 08:07:55.801544</td>\n",
       "    </tr>\n",
       "    <tr>\n",
       "      <th>999996</th>\n",
       "      <td>Luis Stevenson</td>\n",
       "      <td>27</td>\n",
       "      <td>github.com</td>\n",
       "      <td>2025-01-03 21:11:10.658926</td>\n",
       "      <td>2025-01-03 23:00:10.658926</td>\n",
       "    </tr>\n",
       "    <tr>\n",
       "      <th>999997</th>\n",
       "      <td>Corey Mooney</td>\n",
       "      <td>32</td>\n",
       "      <td>twitter.com</td>\n",
       "      <td>2025-01-05 23:45:29.454227</td>\n",
       "      <td>2025-01-06 02:13:29.454227</td>\n",
       "    </tr>\n",
       "    <tr>\n",
       "      <th>999998</th>\n",
       "      <td>Joshua Howard</td>\n",
       "      <td>49</td>\n",
       "      <td>linkedin.com</td>\n",
       "      <td>2025-03-22 22:22:21.883291</td>\n",
       "      <td>2025-03-23 00:27:21.883291</td>\n",
       "    </tr>\n",
       "    <tr>\n",
       "      <th>999999</th>\n",
       "      <td>Shane Stewart</td>\n",
       "      <td>67</td>\n",
       "      <td>linkedin.com</td>\n",
       "      <td>2025-02-11 17:03:14.073049</td>\n",
       "      <td>2025-02-11 18:10:14.073049</td>\n",
       "    </tr>\n",
       "  </tbody>\n",
       "</table>\n",
       "<p>1000000 rows × 5 columns</p>\n",
       "</div>"
      ],
      "text/plain": [
       "                      name  age  website_used                  login_time  \\\n",
       "0              Jason Boyer   54   twitter.com  2025-03-05 07:04:34.918761   \n",
       "1              Mary Huerta   21  facebook.com  2025-04-17 07:26:47.460576   \n",
       "2                Robin Lee   52  linkedin.com  2025-04-20 22:07:58.367471   \n",
       "3       Kevin Rodriguez MD   57  linkedin.com  2025-05-23 03:06:24.123255   \n",
       "4             Debra Walker   36    github.com  2025-03-14 07:09:16.376341   \n",
       "...                    ...  ...           ...                         ...   \n",
       "999995       Juan Thompson   60  facebook.com  2025-01-15 05:14:55.801544   \n",
       "999996      Luis Stevenson   27    github.com  2025-01-03 21:11:10.658926   \n",
       "999997        Corey Mooney   32   twitter.com  2025-01-05 23:45:29.454227   \n",
       "999998       Joshua Howard   49  linkedin.com  2025-03-22 22:22:21.883291   \n",
       "999999       Shane Stewart   67  linkedin.com  2025-02-11 17:03:14.073049   \n",
       "\n",
       "                       logout_time  \n",
       "0       2025-03-05 08:35:34.918761  \n",
       "1       2025-04-17 08:06:47.460576  \n",
       "2       2025-04-21 00:25:58.367471  \n",
       "3       2025-05-23 04:38:24.123255  \n",
       "4       2025-03-14 09:31:16.376341  \n",
       "...                            ...  \n",
       "999995  2025-01-15 08:07:55.801544  \n",
       "999996  2025-01-03 23:00:10.658926  \n",
       "999997  2025-01-06 02:13:29.454227  \n",
       "999998  2025-03-23 00:27:21.883291  \n",
       "999999  2025-02-11 18:10:14.073049  \n",
       "\n",
       "[1000000 rows x 5 columns]"
      ]
     },
     "execution_count": 16,
     "metadata": {},
     "output_type": "execute_result"
    }
   ],
   "source": [
    "df2 = pd.read_csv('site_data.csv')  # To verify the CSV was created correctly\n",
    "df2\n"
   ]
  },
  {
   "cell_type": "code",
   "execution_count": 17,
   "id": "b1d28e33",
   "metadata": {},
   "outputs": [
    {
     "data": {
      "text/plain": [
       "(1000000, 5)"
      ]
     },
     "execution_count": 17,
     "metadata": {},
     "output_type": "execute_result"
    }
   ],
   "source": [
    "df2.shape"
   ]
  },
  {
   "cell_type": "code",
   "execution_count": 18,
   "id": "e5b82e8d",
   "metadata": {},
   "outputs": [
    {
     "name": "stdout",
     "output_type": "stream",
     "text": [
      "name                         Shane Stewart\n",
      "age                                     67\n",
      "website_used                  linkedin.com\n",
      "login_time      2025-02-11 17:03:14.073049\n",
      "logout_time     2025-02-11 18:10:14.073049\n",
      "Name: 999999, dtype: object\n"
     ]
    }
   ],
   "source": [
    "## print first row of dataframe df2\n",
    "print(df2.loc[999999])"
   ]
  },
  {
   "cell_type": "code",
   "execution_count": 15,
   "id": "baa8484b",
   "metadata": {},
   "outputs": [
    {
     "name": "stdout",
     "output_type": "stream",
     "text": [
      "21:54:44.596095\n"
     ]
    }
   ],
   "source": [
    "now = datetime.datetime.now()\n",
    "print(now.time())"
   ]
  }
 ],
 "metadata": {
  "kernelspec": {
   "display_name": "llm",
   "language": "python",
   "name": "python3"
  },
  "language_info": {
   "codemirror_mode": {
    "name": "ipython",
    "version": 3
   },
   "file_extension": ".py",
   "mimetype": "text/x-python",
   "name": "python",
   "nbconvert_exporter": "python",
   "pygments_lexer": "ipython3",
   "version": "3.12.3"
  }
 },
 "nbformat": 4,
 "nbformat_minor": 5
}
